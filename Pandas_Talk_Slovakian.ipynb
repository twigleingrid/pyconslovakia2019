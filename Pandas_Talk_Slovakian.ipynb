{
 "cells": [
  {
   "cell_type": "markdown",
   "metadata": {
    "slideshow": {
     "slide_type": "slide"
    }
   },
   "source": [
    "# The Apprentice's Enthusiastic Guide to pandas\n",
    "##     *or how to look at the world through* \n",
    "##     *the gentle eyes of one*"
   ]
  },
  {
   "cell_type": "markdown",
   "metadata": {
    "slideshow": {
     "slide_type": "slide"
    }
   },
   "source": [
    "![title](img/panda_eyes.JPG)"
   ]
  },
  {
   "cell_type": "markdown",
   "metadata": {
    "slideshow": {
     "slide_type": "slide"
    }
   },
   "source": [
    "# The word Apprentice might describe the world of a \n",
    "# being who embarks on the wonderful\n",
    "# journey of learning. \n",
    "# Shall we?"
   ]
  },
  {
   "cell_type": "markdown",
   "metadata": {
    "slideshow": {
     "slide_type": "slide"
    }
   },
   "source": [
    "# Who is Ingrid and why does she love Pandas?\n",
    "\n",
    "![title](img/ingrid_panda.JPG)\n",
    "\n",
    "## P.S.: Ingrid is a developer at RadarServices and plays the flute on the meadows of the University of Arts in Graz. \n",
    "    "
   ]
  },
  {
   "cell_type": "markdown",
   "metadata": {
    "slideshow": {
     "slide_type": "slide"
    }
   },
   "source": [
    "# The Pandas soon realized there's no way \n",
    "# they are going to survive\n",
    "\n",
    "# They needed a fresh view over the world \n",
    "# and its intrinsic mechanisms"
   ]
  },
  {
   "cell_type": "markdown",
   "metadata": {
    "slideshow": {
     "slide_type": "slide"
    }
   },
   "source": [
    "# pandas\n",
    "\n",
    "\n",
    "\n",
    "##     a high performative library in the midst of the forest \n",
    "    \n",
    "##     a powerful toolkit for data structures \n",
    "   \n",
    "##     and data analysis\n",
    "\n",
    " "
   ]
  },
  {
   "cell_type": "markdown",
   "metadata": {
    "slideshow": {
     "slide_type": "slide"
    }
   },
   "source": [
    "# Pandas bite, you know? \n",
    "![title](img/pandas_bite.JPG)"
   ]
  },
  {
   "cell_type": "markdown",
   "metadata": {
    "slideshow": {
     "slide_type": "slide"
    }
   },
   "source": [
    "# Let's import this long-dreamed library"
   ]
  },
  {
   "cell_type": "code",
   "execution_count": 1,
   "metadata": {
    "slideshow": {
     "slide_type": "fragment"
    }
   },
   "outputs": [],
   "source": [
    "import pandas as pd               # imports long-dreamed library"
   ]
  },
  {
   "cell_type": "code",
   "execution_count": 2,
   "metadata": {
    "slideshow": {
     "slide_type": "skip"
    }
   },
   "outputs": [],
   "source": [
    "# shows pictures with colors\n",
    "%matplotlib inline\n",
    "\n",
    "# we don't want warnings in the presentation\n",
    "import warnings\n",
    "warnings.filterwarnings('ignore')\n",
    "\n",
    "# we need this later\n",
    "import io\n",
    "from contextlib import redirect_stdout, contextmanager"
   ]
  },
  {
   "cell_type": "markdown",
   "metadata": {
    "slideshow": {
     "slide_type": "slide"
    }
   },
   "source": [
    "# Data Sets A.K.A. all the little mysteries and quests \n",
    "# they would like to solve. From Kaggle.com:\n",
    "\n",
    "# - Extinct and endangered languages in the world \n",
    "(it's the languages they had to master for world domination)\n",
    "\n",
    "# - Biodiversity in the US national parks\n",
    "(it's time to get to know our enemies, who are we going to share our prey with?)\n"
   ]
  },
  {
   "cell_type": "markdown",
   "metadata": {
    "slideshow": {
     "slide_type": "slide"
    }
   },
   "source": [
    "# Pandas DataFrame - holds the precious data\n",
    "\n",
    "Think of an **Excel spreadsheet**, or forget about the **Excel spreadsheet**,\n",
    "# think of a rice paddy! \n",
    "# 田田田田"
   ]
  },
  {
   "cell_type": "markdown",
   "metadata": {
    "slideshow": {
     "slide_type": "slide"
    }
   },
   "source": [
    "![title](img/abstract_rice_paddy.jpg)"
   ]
  },
  {
   "cell_type": "markdown",
   "metadata": {
    "slideshow": {
     "slide_type": "skip"
    }
   },
   "source": [
    "# A **row** is an instance, a finding or an observation.\n",
    "# **Columns** are the various attributes of the observation.\n",
    "\n",
    "For example pandas have a name, a literal Chinese name translation, their order and favorite food.\n",
    "\n",
    "- Giant Panda, Big Bear Cat, Carnivora, Bamboo\n",
    "- Red panda, Red Bear Cat, Carnivora, Bamboo"
   ]
  },
  {
   "cell_type": "markdown",
   "metadata": {
    "slideshow": {
     "slide_type": "slide"
    }
   },
   "source": [
    "# Pandas allows us to read data from many formats like:\n",
    "\n",
    "- Excel spreadsheets\n",
    "- or CSV (comma separated values)\n",
    "- or SQL databases or many more"
   ]
  },
  {
   "cell_type": "code",
   "execution_count": 3,
   "metadata": {
    "slideshow": {
     "slide_type": "fragment"
    }
   },
   "outputs": [],
   "source": [
    "# Enough talking, let's decide for a path in life,\n",
    "# let's make something meaningful out of it!\n",
    "\n",
    "idiomas = pd.read_csv('extinct_languages.csv')\n",
    "\n",
    "species = pd.read_csv('species.csv')"
   ]
  },
  {
   "cell_type": "code",
   "execution_count": 4,
   "metadata": {
    "slideshow": {
     "slide_type": "skip"
    }
   },
   "outputs": [],
   "source": [
    "languages = pd.read_csv('extinct_languages.csv')\n"
   ]
  },
  {
   "cell_type": "markdown",
   "metadata": {
    "slideshow": {
     "slide_type": "skip"
    }
   },
   "source": [
    "# Removing columns and from their genes their procrastinative behavioural patterns!"
   ]
  },
  {
   "cell_type": "code",
   "execution_count": 5,
   "metadata": {
    "slideshow": {
     "slide_type": "skip"
    }
   },
   "outputs": [],
   "source": [
    "# by name, axis=1 (we're removing a column), inplace=True => foreveeer\n",
    "languages.drop('ID', axis=1, inplace=True)"
   ]
  },
  {
   "cell_type": "code",
   "execution_count": 6,
   "metadata": {
    "slideshow": {
     "slide_type": "skip"
    }
   },
   "outputs": [
    {
     "data": {
      "text/html": [
       "<div>\n",
       "<style scoped>\n",
       "    .dataframe tbody tr th:only-of-type {\n",
       "        vertical-align: middle;\n",
       "    }\n",
       "\n",
       "    .dataframe tbody tr th {\n",
       "        vertical-align: top;\n",
       "    }\n",
       "\n",
       "    .dataframe thead th {\n",
       "        text-align: right;\n",
       "    }\n",
       "</style>\n",
       "<table border=\"1\" class=\"dataframe\">\n",
       "  <thead>\n",
       "    <tr style=\"text-align: right;\">\n",
       "      <th></th>\n",
       "      <th>Name in English</th>\n",
       "      <th>Name in French</th>\n",
       "      <th>Name in Spanish</th>\n",
       "      <th>Countries</th>\n",
       "      <th>Country codes alpha 3</th>\n",
       "      <th>ISO639-3 codes</th>\n",
       "      <th>Degree of endangerment</th>\n",
       "      <th>Alternate names</th>\n",
       "      <th>Name in the language</th>\n",
       "      <th>Number of speakers</th>\n",
       "      <th>Sources</th>\n",
       "      <th>Latitude</th>\n",
       "      <th>Longitude</th>\n",
       "      <th>Description of the location</th>\n",
       "    </tr>\n",
       "  </thead>\n",
       "  <tbody>\n",
       "    <tr>\n",
       "      <th>0</th>\n",
       "      <td>South Italian</td>\n",
       "      <td>italien du sud</td>\n",
       "      <td>napolitano-calabrés</td>\n",
       "      <td>Italy</td>\n",
       "      <td>ITA</td>\n",
       "      <td>nap</td>\n",
       "      <td>Vulnerable</td>\n",
       "      <td>Neapolitan; Neapolitan-Calabrese; неаполитанск...</td>\n",
       "      <td>NaN</td>\n",
       "      <td>7500000.0</td>\n",
       "      <td>NaN</td>\n",
       "      <td>40.9798</td>\n",
       "      <td>15.249</td>\n",
       "      <td>Campania, Lucania (Basilicata), Abruzzi (Abruz...</td>\n",
       "    </tr>\n",
       "  </tbody>\n",
       "</table>\n",
       "</div>"
      ],
      "text/plain": [
       "  Name in English  Name in French      Name in Spanish Countries  \\\n",
       "0   South Italian  italien du sud  napolitano-calabrés     Italy   \n",
       "\n",
       "  Country codes alpha 3 ISO639-3 codes Degree of endangerment  \\\n",
       "0                   ITA            nap             Vulnerable   \n",
       "\n",
       "                                     Alternate names Name in the language  \\\n",
       "0  Neapolitan; Neapolitan-Calabrese; неаполитанск...                  NaN   \n",
       "\n",
       "   Number of speakers Sources  Latitude  Longitude  \\\n",
       "0           7500000.0     NaN   40.9798     15.249   \n",
       "\n",
       "                         Description of the location  \n",
       "0  Campania, Lucania (Basilicata), Abruzzi (Abruz...  "
      ]
     },
     "execution_count": 6,
     "metadata": {},
     "output_type": "execute_result"
    }
   ],
   "source": [
    "languages.head(1)"
   ]
  },
  {
   "cell_type": "markdown",
   "metadata": {
    "slideshow": {
     "slide_type": "skip"
    }
   },
   "source": [
    "# Enough joking around, off with their heads!"
   ]
  },
  {
   "cell_type": "code",
   "execution_count": 7,
   "metadata": {
    "slideshow": {
     "slide_type": "skip"
    }
   },
   "outputs": [],
   "source": [
    "# dropping by column number\n",
    "idiomas = languages.drop(languages.columns[[1, 2, 4, 5, 7, 8, 10, 13]], axis=1)"
   ]
  },
  {
   "cell_type": "code",
   "execution_count": 8,
   "metadata": {
    "scrolled": false,
    "slideshow": {
     "slide_type": "skip"
    }
   },
   "outputs": [
    {
     "data": {
      "text/html": [
       "<div>\n",
       "<style scoped>\n",
       "    .dataframe tbody tr th:only-of-type {\n",
       "        vertical-align: middle;\n",
       "    }\n",
       "\n",
       "    .dataframe tbody tr th {\n",
       "        vertical-align: top;\n",
       "    }\n",
       "\n",
       "    .dataframe thead th {\n",
       "        text-align: right;\n",
       "    }\n",
       "</style>\n",
       "<table border=\"1\" class=\"dataframe\">\n",
       "  <thead>\n",
       "    <tr style=\"text-align: right;\">\n",
       "      <th></th>\n",
       "      <th>Name in English</th>\n",
       "      <th>Countries</th>\n",
       "      <th>Degree of endangerment</th>\n",
       "      <th>Number of speakers</th>\n",
       "      <th>Latitude</th>\n",
       "      <th>Longitude</th>\n",
       "    </tr>\n",
       "  </thead>\n",
       "  <tbody>\n",
       "    <tr>\n",
       "      <th>2720</th>\n",
       "      <td>Zangskari</td>\n",
       "      <td>India, Pakistan</td>\n",
       "      <td>Definitely endangered</td>\n",
       "      <td>NaN</td>\n",
       "      <td>34.0833</td>\n",
       "      <td>76.8500</td>\n",
       "    </tr>\n",
       "    <tr>\n",
       "      <th>2721</th>\n",
       "      <td>Zidgali</td>\n",
       "      <td>Oman</td>\n",
       "      <td>Critically endangered</td>\n",
       "      <td>NaN</td>\n",
       "      <td>23.4027</td>\n",
       "      <td>58.0957</td>\n",
       "    </tr>\n",
       "  </tbody>\n",
       "</table>\n",
       "</div>"
      ],
      "text/plain": [
       "     Name in English        Countries Degree of endangerment  \\\n",
       "2720       Zangskari  India, Pakistan  Definitely endangered   \n",
       "2721         Zidgali             Oman  Critically endangered   \n",
       "\n",
       "      Number of speakers  Latitude  Longitude  \n",
       "2720                 NaN   34.0833    76.8500  \n",
       "2721                 NaN   23.4027    58.0957  "
      ]
     },
     "execution_count": 8,
     "metadata": {},
     "output_type": "execute_result"
    }
   ],
   "source": [
    "idiomas.tail(2)"
   ]
  },
  {
   "cell_type": "markdown",
   "metadata": {
    "slideshow": {
     "slide_type": "slide"
    }
   },
   "source": [
    "# Renaming the columns"
   ]
  },
  {
   "cell_type": "code",
   "execution_count": 9,
   "metadata": {
    "slideshow": {
     "slide_type": "-"
    }
   },
   "outputs": [],
   "source": [
    "idiomas.rename(columns = {'Name in English': 'Name', \n",
    "                          'Degree of endangerment': 'Endangerment', \n",
    "                          'Number of speakers': 'Speakers'}, \n",
    "               inplace=True)"
   ]
  },
  {
   "cell_type": "code",
   "execution_count": 10,
   "metadata": {
    "scrolled": false,
    "slideshow": {
     "slide_type": "-"
    }
   },
   "outputs": [
    {
     "data": {
      "text/html": [
       "<div>\n",
       "<style scoped>\n",
       "    .dataframe tbody tr th:only-of-type {\n",
       "        vertical-align: middle;\n",
       "    }\n",
       "\n",
       "    .dataframe tbody tr th {\n",
       "        vertical-align: top;\n",
       "    }\n",
       "\n",
       "    .dataframe thead th {\n",
       "        text-align: right;\n",
       "    }\n",
       "</style>\n",
       "<table border=\"1\" class=\"dataframe\">\n",
       "  <thead>\n",
       "    <tr style=\"text-align: right;\">\n",
       "      <th></th>\n",
       "      <th>Name</th>\n",
       "      <th>Countries</th>\n",
       "      <th>Endangerment</th>\n",
       "      <th>Speakers</th>\n",
       "      <th>Latitude</th>\n",
       "      <th>Longitude</th>\n",
       "    </tr>\n",
       "  </thead>\n",
       "  <tbody>\n",
       "    <tr>\n",
       "      <th>0</th>\n",
       "      <td>South Italian</td>\n",
       "      <td>Italy</td>\n",
       "      <td>Vulnerable</td>\n",
       "      <td>7500000.0</td>\n",
       "      <td>40.9798</td>\n",
       "      <td>15.2490</td>\n",
       "    </tr>\n",
       "    <tr>\n",
       "      <th>1</th>\n",
       "      <td>Sicilian</td>\n",
       "      <td>Italy</td>\n",
       "      <td>Vulnerable</td>\n",
       "      <td>5000000.0</td>\n",
       "      <td>37.4399</td>\n",
       "      <td>14.5019</td>\n",
       "    </tr>\n",
       "  </tbody>\n",
       "</table>\n",
       "</div>"
      ],
      "text/plain": [
       "            Name Countries Endangerment   Speakers  Latitude  Longitude\n",
       "0  South Italian     Italy   Vulnerable  7500000.0   40.9798    15.2490\n",
       "1       Sicilian     Italy   Vulnerable  5000000.0   37.4399    14.5019"
      ]
     },
     "execution_count": 10,
     "metadata": {},
     "output_type": "execute_result"
    }
   ],
   "source": [
    "idiomas.head(2)"
   ]
  },
  {
   "cell_type": "markdown",
   "metadata": {
    "slideshow": {
     "slide_type": "slide"
    }
   },
   "source": [
    "# Data Types\n",
    "\n",
    "- `float`, `int`, `bool`, \n",
    "- `datetime64[ns]` and `datetime64[ns, tz]`, `timedelta[ns]`, \n",
    "- `category` and `object`.\n",
    "\n",
    "**Attention, Attention:** `object`: various data types like float(42.1 or NaN) and string (\"Snape\").\n",
    "\n",
    "* Pandas uses the `object` `dtype` for storing strings!\n"
   ]
  },
  {
   "cell_type": "code",
   "execution_count": 11,
   "metadata": {
    "scrolled": true,
    "slideshow": {
     "slide_type": "fragment"
    }
   },
   "outputs": [
    {
     "data": {
      "text/plain": [
       "Name             object\n",
       "Countries        object\n",
       "Endangerment     object\n",
       "Speakers        float64\n",
       "Latitude        float64\n",
       "Longitude       float64\n",
       "dtype: object"
      ]
     },
     "execution_count": 11,
     "metadata": {},
     "output_type": "execute_result"
    }
   ],
   "source": [
    "idiomas.dtypes"
   ]
  },
  {
   "cell_type": "markdown",
   "metadata": {
    "slideshow": {
     "slide_type": "slide"
    }
   },
   "source": [
    "# What are categories?\n",
    "\n",
    "\n",
    "   Categoricals are a pandas data type, which correspond to categorical variables in statistics: a variable, \n",
    "    which can take on only a limited, and usually fixed, number of possible values (categories, levels in R).\n",
    "\n"
   ]
  },
  {
   "cell_type": "markdown",
   "metadata": {
    "slideshow": {
     "slide_type": "slide"
    }
   },
   "source": [
    "Yes, but \n",
    "\n",
    "## What are categories after all?\n",
    "\n",
    "Houses (categories) in Harry Potter:\n",
    "\n",
    "- Gryffindor \n",
    "- Slytherin\n",
    "- Hufflepuff\n",
    "- Ravenclaw\n",
    "\n",
    "In the `idiomas` dataset the degree of endangerment would make a good\n",
    "category."
   ]
  },
  {
   "cell_type": "markdown",
   "metadata": {
    "slideshow": {
     "slide_type": "skip"
    }
   },
   "source": [
    "# Switching to categorical data "
   ]
  },
  {
   "cell_type": "code",
   "execution_count": 12,
   "metadata": {
    "slideshow": {
     "slide_type": "skip"
    }
   },
   "outputs": [],
   "source": [
    "endangerments = idiomas['Endangerment'].astype('category')\n",
    "idiomas['Endangerment_category'] = endangerments"
   ]
  },
  {
   "cell_type": "code",
   "execution_count": 13,
   "metadata": {
    "scrolled": true,
    "slideshow": {
     "slide_type": "skip"
    }
   },
   "outputs": [
    {
     "data": {
      "text/plain": [
       "CategoricalDtype(categories=['Critically endangered', 'Definitely endangered', 'Extinct',\n",
       "                  'Severely endangered', 'Vulnerable'],\n",
       "                 ordered=False)"
      ]
     },
     "execution_count": 13,
     "metadata": {},
     "output_type": "execute_result"
    }
   ],
   "source": [
    "idiomas.Endangerment_category.dtype    # oh noooo, ordered=False !!!"
   ]
  },
  {
   "cell_type": "code",
   "execution_count": 14,
   "metadata": {
    "slideshow": {
     "slide_type": "skip"
    }
   },
   "outputs": [],
   "source": [
    "# let's clean up the unordered category\n",
    "del idiomas['Endangerment_category']"
   ]
  },
  {
   "cell_type": "code",
   "execution_count": 15,
   "metadata": {
    "slideshow": {
     "slide_type": "slide"
    }
   },
   "outputs": [
    {
     "name": "stdout",
     "output_type": "stream",
     "text": [
      "<class 'pandas.core.frame.DataFrame'>\n",
      "RangeIndex: 2722 entries, 0 to 2721\n",
      "Data columns (total 6 columns):\n",
      "Name            2722 non-null object\n",
      "Countries       2721 non-null object\n",
      "Endangerment    2722 non-null object\n",
      "Speakers        2539 non-null float64\n",
      "Latitude        2719 non-null float64\n",
      "Longitude       2719 non-null float64\n",
      "dtypes: float64(3), object(3)\n",
      "memory usage: 626.6 KB\n"
     ]
    }
   ],
   "source": [
    "# We use memory_usage='deep' for a deep inspection\n",
    "# of all object dtypes\n",
    "\n",
    "idiomas.info(memory_usage=\"deep\")"
   ]
  },
  {
   "cell_type": "markdown",
   "metadata": {
    "slideshow": {
     "slide_type": "slide"
    }
   },
   "source": [
    "# Switching to categorical data with CategoricalDTypes"
   ]
  },
  {
   "cell_type": "code",
   "execution_count": 16,
   "metadata": {
    "slideshow": {
     "slide_type": "fragment"
    }
   },
   "outputs": [
    {
     "name": "stdout",
     "output_type": "stream",
     "text": [
      "253 µs ± 2.64 µs per loop (mean ± std. dev. of 7 runs, 1000 loops each)\n"
     ]
    }
   ],
   "source": [
    "%timeit idiomas.Endangerment == 'Definitely endangered'"
   ]
  },
  {
   "cell_type": "code",
   "execution_count": 17,
   "metadata": {
    "slideshow": {
     "slide_type": "fragment"
    }
   },
   "outputs": [],
   "source": [
    "from pandas.api.types import CategoricalDtype\n",
    "categories = ['Vulnerable', 'Definitely endangered', \n",
    "              'Severely endangered', 'Critically endangered', 'Extinct']\n",
    "\n",
    "# However, in Hogwarts - we could not order the houses.\n",
    "degree_of_endangerment = CategoricalDtype(categories=categories, ordered=True)\n",
    "\n",
    "dangers = idiomas['Endangerment'].astype(degree_of_endangerment)\n",
    "idiomas['Endangerment'] = dangers"
   ]
  },
  {
   "cell_type": "code",
   "execution_count": 18,
   "metadata": {
    "slideshow": {
     "slide_type": "fragment"
    }
   },
   "outputs": [
    {
     "name": "stdout",
     "output_type": "stream",
     "text": [
      "106 µs ± 399 ns per loop (mean ± std. dev. of 7 runs, 10000 loops each)\n"
     ]
    }
   ],
   "source": [
    "%%timeit \n",
    "idiomas.Endangerment == 'Definitely endangered'"
   ]
  },
  {
   "cell_type": "markdown",
   "metadata": {
    "slideshow": {
     "slide_type": "slide"
    }
   },
   "source": [
    "# The `dtype` of Endangerment is now `category`\n",
    "\n",
    "# But what type does pandas use for categories?"
   ]
  },
  {
   "cell_type": "code",
   "execution_count": 19,
   "metadata": {
    "scrolled": true,
    "slideshow": {
     "slide_type": "slide"
    }
   },
   "outputs": [
    {
     "data": {
      "text/plain": [
       "{0: 'Vulnerable',\n",
       " 1: 'Definitely endangered',\n",
       " 2: 'Severely endangered',\n",
       " 3: 'Critically endangered',\n",
       " 4: 'Extinct'}"
      ]
     },
     "execution_count": 19,
     "metadata": {},
     "output_type": "execute_result"
    }
   ],
   "source": [
    "# If we ask ourselves how the category works -> it is stored as a list / array and pandas save the index.\n",
    "\n",
    "dict(enumerate(idiomas['Endangerment'].cat.categories))\n"
   ]
  },
  {
   "cell_type": "markdown",
   "metadata": {
    "slideshow": {
     "slide_type": "fragment"
    }
   },
   "source": [
    "# We save a `0` instead of 'Vulnerable' or a `4` instead of 'Extinct'\n",
    "So instead of cluttering our minds with many many strings, \n",
    "we only have to remember a few numbers! \n",
    "\n",
    "Our memory will say thanks!"
   ]
  },
  {
   "cell_type": "markdown",
   "metadata": {
    "slideshow": {
     "slide_type": "slide"
    }
   },
   "source": [
    "# Let's check the `DataFrame.info()` again!\n",
    "\n",
    "Is the category type in there? Without a `category` we needed **626.6 KB** of memory."
   ]
  },
  {
   "cell_type": "code",
   "execution_count": 20,
   "metadata": {
    "slideshow": {
     "slide_type": "-"
    }
   },
   "outputs": [
    {
     "name": "stdout",
     "output_type": "stream",
     "text": [
      "<class 'pandas.core.frame.DataFrame'>\n",
      "RangeIndex: 2722 entries, 0 to 2721\n",
      "Data columns (total 6 columns):\n",
      "Name            2722 non-null object\n",
      "Countries       2721 non-null object\n",
      "Endangerment    2722 non-null category\n",
      "Speakers        2539 non-null float64\n",
      "Latitude        2719 non-null float64\n",
      "Longitude       2719 non-null float64\n",
      "dtypes: category(1), float64(3), object(2)\n",
      "memory usage: 433.7 KB\n"
     ]
    }
   ],
   "source": [
    "idiomas.info(memory_usage='deep')"
   ]
  },
  {
   "cell_type": "markdown",
   "metadata": {
    "slideshow": {
     "slide_type": "slide"
    }
   },
   "source": [
    "# Laborious efforts of dealing with missing data\n",
    "\n",
    "Because data is often missing, malformed or empty.\n",
    "\n",
    "The method `DataFrame.isnull` can help us to\n",
    "find those entries."
   ]
  },
  {
   "cell_type": "markdown",
   "metadata": {
    "slideshow": {
     "slide_type": "slide"
    }
   },
   "source": [
    "# There are languages which hide their Number of Speakers!"
   ]
  },
  {
   "cell_type": "code",
   "execution_count": 21,
   "metadata": {
    "scrolled": true,
    "slideshow": {
     "slide_type": "-"
    }
   },
   "outputs": [
    {
     "data": {
      "text/plain": [
       "Name              0\n",
       "Countries         1\n",
       "Endangerment      0\n",
       "Speakers        183\n",
       "Latitude          3\n",
       "Longitude         3\n",
       "dtype: int64"
      ]
     },
     "execution_count": 21,
     "metadata": {},
     "output_type": "execute_result"
    }
   ],
   "source": [
    "idiomas.isnull().sum()"
   ]
  },
  {
   "cell_type": "code",
   "execution_count": 22,
   "metadata": {
    "scrolled": true,
    "slideshow": {
     "slide_type": "slide"
    }
   },
   "outputs": [
    {
     "data": {
      "text/plain": [
       "Name            0\n",
       "Countries       1\n",
       "Endangerment    0\n",
       "Speakers        0\n",
       "Latitude        3\n",
       "Longitude       3\n",
       "dtype: int64"
      ]
     },
     "execution_count": 22,
     "metadata": {},
     "output_type": "execute_result"
    }
   ],
   "source": [
    "# we can be sneaky and fill the speakers information with .fillna\n",
    "\n",
    "idiomas.Speakers = idiomas.Speakers.fillna(0).astype('int')\n",
    "idiomas.isnull().sum()"
   ]
  },
  {
   "cell_type": "markdown",
   "metadata": {
    "slideshow": {
     "slide_type": "slide"
    }
   },
   "source": [
    "# Species dataset: We found a lot of nulls in the column `Unnamed: 13`\n"
   ]
  },
  {
   "cell_type": "code",
   "execution_count": 23,
   "metadata": {
    "slideshow": {
     "slide_type": "-"
    }
   },
   "outputs": [
    {
     "data": {
      "text/plain": [
       "(119248, 14)"
      ]
     },
     "execution_count": 23,
     "metadata": {},
     "output_type": "execute_result"
    }
   ],
   "source": [
    "species.shape"
   ]
  },
  {
   "cell_type": "code",
   "execution_count": 24,
   "metadata": {
    "scrolled": true,
    "slideshow": {
     "slide_type": "-"
    }
   },
   "outputs": [
    {
     "data": {
      "text/plain": [
       "Species ID                  0\n",
       "Park Name                   0\n",
       "Category                    0\n",
       "Order                    1472\n",
       "Family                   1512\n",
       "Scientific Name             0\n",
       "Common Names                0\n",
       "Record Status               0\n",
       "Occurrence              20142\n",
       "Nativeness              25045\n",
       "Abundance               42942\n",
       "Seasonality             99091\n",
       "Conservation Status    114530\n",
       "Unnamed: 13            119243\n",
       "dtype: int64"
      ]
     },
     "execution_count": 24,
     "metadata": {},
     "output_type": "execute_result"
    }
   ],
   "source": [
    "species.isnull().sum()"
   ]
  },
  {
   "cell_type": "markdown",
   "metadata": {
    "slideshow": {
     "slide_type": "slide"
    }
   },
   "source": [
    "# There are some rows where `Unnamed: 13` is not null"
   ]
  },
  {
   "cell_type": "code",
   "execution_count": 25,
   "metadata": {
    "scrolled": false
   },
   "outputs": [
    {
     "data": {
      "text/html": [
       "<div>\n",
       "<style scoped>\n",
       "    .dataframe tbody tr th:only-of-type {\n",
       "        vertical-align: middle;\n",
       "    }\n",
       "\n",
       "    .dataframe tbody tr th {\n",
       "        vertical-align: top;\n",
       "    }\n",
       "\n",
       "    .dataframe thead th {\n",
       "        text-align: right;\n",
       "    }\n",
       "</style>\n",
       "<table border=\"1\" class=\"dataframe\">\n",
       "  <thead>\n",
       "    <tr style=\"text-align: right;\">\n",
       "      <th></th>\n",
       "      <th>Species ID</th>\n",
       "      <th>Park Name</th>\n",
       "      <th>Category</th>\n",
       "      <th>Order</th>\n",
       "      <th>Family</th>\n",
       "      <th>Scientific Name</th>\n",
       "      <th>Common Names</th>\n",
       "      <th>Record Status</th>\n",
       "      <th>Occurrence</th>\n",
       "      <th>Nativeness</th>\n",
       "      <th>Abundance</th>\n",
       "      <th>Seasonality</th>\n",
       "      <th>Conservation Status</th>\n",
       "      <th>Unnamed: 13</th>\n",
       "    </tr>\n",
       "  </thead>\n",
       "  <tbody>\n",
       "    <tr>\n",
       "      <th>6441</th>\n",
       "      <td>BISC-1026</td>\n",
       "      <td>Biscayne National Park</td>\n",
       "      <td>Mammal</td>\n",
       "      <td>Sirenia</td>\n",
       "      <td>Trichechidae</td>\n",
       "      <td>Trichechus manatus</td>\n",
       "      <td>Manatee</td>\n",
       "      <td>Manati</td>\n",
       "      <td>Approved</td>\n",
       "      <td>Present</td>\n",
       "      <td>Unknown</td>\n",
       "      <td>Unknown</td>\n",
       "      <td>NaN</td>\n",
       "      <td>Endangered</td>\n",
       "    </tr>\n",
       "    <tr>\n",
       "      <th>31786</th>\n",
       "      <td>EVER-1414</td>\n",
       "      <td>Everglades National Park</td>\n",
       "      <td>Reptile</td>\n",
       "      <td>Crocodilia</td>\n",
       "      <td>Crocodylidae</td>\n",
       "      <td>Crocodylus acutus</td>\n",
       "      <td>American Crocodile</td>\n",
       "      <td>Cocodrilo De Tumbes</td>\n",
       "      <td>Approved</td>\n",
       "      <td>Present</td>\n",
       "      <td>Native</td>\n",
       "      <td>Uncommon</td>\n",
       "      <td>Resident</td>\n",
       "      <td>Threatened</td>\n",
       "    </tr>\n",
       "  </tbody>\n",
       "</table>\n",
       "</div>"
      ],
      "text/plain": [
       "      Species ID                 Park Name Category       Order        Family  \\\n",
       "6441   BISC-1026    Biscayne National Park   Mammal     Sirenia  Trichechidae   \n",
       "31786  EVER-1414  Everglades National Park  Reptile  Crocodilia  Crocodylidae   \n",
       "\n",
       "          Scientific Name        Common Names         Record Status  \\\n",
       "6441   Trichechus manatus             Manatee                Manati   \n",
       "31786   Crocodylus acutus  American Crocodile   Cocodrilo De Tumbes   \n",
       "\n",
       "      Occurrence Nativeness Abundance Seasonality Conservation Status  \\\n",
       "6441    Approved    Present   Unknown     Unknown                 NaN   \n",
       "31786   Approved    Present    Native    Uncommon            Resident   \n",
       "\n",
       "      Unnamed: 13  \n",
       "6441   Endangered  \n",
       "31786  Threatened  "
      ]
     },
     "execution_count": 25,
     "metadata": {},
     "output_type": "execute_result"
    }
   ],
   "source": [
    "# on 5 rows the columns shifted to the right.\n",
    "species[species['Unnamed: 13'].notnull()][:2]"
   ]
  },
  {
   "cell_type": "code",
   "execution_count": 26,
   "metadata": {
    "scrolled": true,
    "slideshow": {
     "slide_type": "slide"
    }
   },
   "outputs": [],
   "source": [
    "# it is only shifted on certain rows & certain columns!\n",
    "\n",
    "shifted_rows = species['Unnamed: 13'].notnull()\n",
    "shifted_columns = ['Record Status', 'Occurrence', 'Nativeness',\n",
    "                   'Abundance', 'Seasonality', 'Conservation Status',\n",
    "                   'Unnamed: 13']\n",
    "\n",
    "indexes = species[shifted_rows].index\n",
    "\n",
    "species.loc[indexes, shifted_columns] = species[shifted_rows][shifted_columns].shift(-1, axis=1)\n"
   ]
  },
  {
   "cell_type": "code",
   "execution_count": 27,
   "metadata": {
    "slideshow": {
     "slide_type": "slide"
    }
   },
   "outputs": [
    {
     "data": {
      "text/html": [
       "<div>\n",
       "<style scoped>\n",
       "    .dataframe tbody tr th:only-of-type {\n",
       "        vertical-align: middle;\n",
       "    }\n",
       "\n",
       "    .dataframe tbody tr th {\n",
       "        vertical-align: top;\n",
       "    }\n",
       "\n",
       "    .dataframe thead th {\n",
       "        text-align: right;\n",
       "    }\n",
       "</style>\n",
       "<table border=\"1\" class=\"dataframe\">\n",
       "  <thead>\n",
       "    <tr style=\"text-align: right;\">\n",
       "      <th></th>\n",
       "      <th>Species ID</th>\n",
       "      <th>Park Name</th>\n",
       "      <th>Category</th>\n",
       "      <th>Order</th>\n",
       "      <th>Family</th>\n",
       "      <th>Scientific Name</th>\n",
       "      <th>Common Names</th>\n",
       "      <th>Record Status</th>\n",
       "      <th>Occurrence</th>\n",
       "      <th>Nativeness</th>\n",
       "      <th>Abundance</th>\n",
       "      <th>Seasonality</th>\n",
       "      <th>Conservation Status</th>\n",
       "      <th>Unnamed: 13</th>\n",
       "    </tr>\n",
       "  </thead>\n",
       "  <tbody>\n",
       "    <tr>\n",
       "      <th>6441</th>\n",
       "      <td>BISC-1026</td>\n",
       "      <td>Biscayne National Park</td>\n",
       "      <td>Mammal</td>\n",
       "      <td>Sirenia</td>\n",
       "      <td>Trichechidae</td>\n",
       "      <td>Trichechus manatus</td>\n",
       "      <td>Manatee</td>\n",
       "      <td>Approved</td>\n",
       "      <td>Present</td>\n",
       "      <td>Unknown</td>\n",
       "      <td>Unknown</td>\n",
       "      <td>NaN</td>\n",
       "      <td>Endangered</td>\n",
       "      <td>NaN</td>\n",
       "    </tr>\n",
       "    <tr>\n",
       "      <th>31786</th>\n",
       "      <td>EVER-1414</td>\n",
       "      <td>Everglades National Park</td>\n",
       "      <td>Reptile</td>\n",
       "      <td>Crocodilia</td>\n",
       "      <td>Crocodylidae</td>\n",
       "      <td>Crocodylus acutus</td>\n",
       "      <td>American Crocodile</td>\n",
       "      <td>Approved</td>\n",
       "      <td>Present</td>\n",
       "      <td>Native</td>\n",
       "      <td>Uncommon</td>\n",
       "      <td>Resident</td>\n",
       "      <td>Threatened</td>\n",
       "      <td>NaN</td>\n",
       "    </tr>\n",
       "    <tr>\n",
       "      <th>31826</th>\n",
       "      <td>EVER-1454</td>\n",
       "      <td>Everglades National Park</td>\n",
       "      <td>Reptile</td>\n",
       "      <td>Testudines</td>\n",
       "      <td>Cheloniidae</td>\n",
       "      <td>Caretta caretta</td>\n",
       "      <td>Loggerhead</td>\n",
       "      <td>Approved</td>\n",
       "      <td>Present</td>\n",
       "      <td>Native</td>\n",
       "      <td>Rare</td>\n",
       "      <td>Breeder</td>\n",
       "      <td>Threatened</td>\n",
       "      <td>NaN</td>\n",
       "    </tr>\n",
       "  </tbody>\n",
       "</table>\n",
       "</div>"
      ],
      "text/plain": [
       "      Species ID                 Park Name Category       Order        Family  \\\n",
       "6441   BISC-1026    Biscayne National Park   Mammal     Sirenia  Trichechidae   \n",
       "31786  EVER-1414  Everglades National Park  Reptile  Crocodilia  Crocodylidae   \n",
       "31826  EVER-1454  Everglades National Park  Reptile  Testudines   Cheloniidae   \n",
       "\n",
       "          Scientific Name        Common Names Record Status Occurrence  \\\n",
       "6441   Trichechus manatus             Manatee      Approved    Present   \n",
       "31786   Crocodylus acutus  American Crocodile      Approved    Present   \n",
       "31826     Caretta caretta          Loggerhead      Approved    Present   \n",
       "\n",
       "      Nativeness Abundance Seasonality Conservation Status Unnamed: 13  \n",
       "6441     Unknown   Unknown         NaN          Endangered         NaN  \n",
       "31786     Native  Uncommon    Resident          Threatened         NaN  \n",
       "31826     Native      Rare     Breeder          Threatened         NaN  "
      ]
     },
     "execution_count": 27,
     "metadata": {},
     "output_type": "execute_result"
    }
   ],
   "source": [
    "species.loc[indexes].head(3)"
   ]
  },
  {
   "cell_type": "code",
   "execution_count": 28,
   "metadata": {
    "slideshow": {
     "slide_type": "skip"
    }
   },
   "outputs": [],
   "source": [
    "especies = species.drop(species.columns[[0, 3, 4, 7, 9, 11,13]], axis=1)"
   ]
  },
  {
   "cell_type": "code",
   "execution_count": 29,
   "metadata": {
    "slideshow": {
     "slide_type": "skip"
    }
   },
   "outputs": [],
   "source": [
    "especies.rename(columns = {'Park Name': 'Park_Name', \n",
    "                           'Category': 'Class', \n",
    "                           'Scientific Name': 'Scientific_Name', \n",
    "                           'Common Names': 'Common_Names', \n",
    "                           'Conservation Status': 'Conservation'},\n",
    "               inplace=True)"
   ]
  },
  {
   "cell_type": "code",
   "execution_count": 30,
   "metadata": {
    "scrolled": true,
    "slideshow": {
     "slide_type": "slide"
    }
   },
   "outputs": [
    {
     "data": {
      "text/html": [
       "<div>\n",
       "<style scoped>\n",
       "    .dataframe tbody tr th:only-of-type {\n",
       "        vertical-align: middle;\n",
       "    }\n",
       "\n",
       "    .dataframe tbody tr th {\n",
       "        vertical-align: top;\n",
       "    }\n",
       "\n",
       "    .dataframe thead th {\n",
       "        text-align: right;\n",
       "    }\n",
       "</style>\n",
       "<table border=\"1\" class=\"dataframe\">\n",
       "  <thead>\n",
       "    <tr style=\"text-align: right;\">\n",
       "      <th></th>\n",
       "      <th>Park_Name</th>\n",
       "      <th>Class</th>\n",
       "      <th>Scientific_Name</th>\n",
       "      <th>Common_Names</th>\n",
       "      <th>Occurrence</th>\n",
       "      <th>Abundance</th>\n",
       "      <th>Conservation</th>\n",
       "    </tr>\n",
       "  </thead>\n",
       "  <tbody>\n",
       "    <tr>\n",
       "      <th>158</th>\n",
       "      <td>Acadia National Park</td>\n",
       "      <td>Bird</td>\n",
       "      <td>Calidris minutilla</td>\n",
       "      <td>Least Sandpiper</td>\n",
       "      <td>Present</td>\n",
       "      <td>Common</td>\n",
       "      <td>NaN</td>\n",
       "    </tr>\n",
       "    <tr>\n",
       "      <th>159</th>\n",
       "      <td>Acadia National Park</td>\n",
       "      <td>Bird</td>\n",
       "      <td>Calidris pusilla</td>\n",
       "      <td>Semipalmated Sandpiper</td>\n",
       "      <td>Present</td>\n",
       "      <td>Abundant</td>\n",
       "      <td>NaN</td>\n",
       "    </tr>\n",
       "    <tr>\n",
       "      <th>160</th>\n",
       "      <td>Acadia National Park</td>\n",
       "      <td>Bird</td>\n",
       "      <td>Catoptrophorus semipalmatus</td>\n",
       "      <td>Eastern Willet, Willet</td>\n",
       "      <td>Not Confirmed</td>\n",
       "      <td>NaN</td>\n",
       "      <td>NaN</td>\n",
       "    </tr>\n",
       "    <tr>\n",
       "      <th>161</th>\n",
       "      <td>Acadia National Park</td>\n",
       "      <td>Bird</td>\n",
       "      <td>Gallinago gallinago</td>\n",
       "      <td>Common Snipe, Wilson's Common Snipe, Wilson's ...</td>\n",
       "      <td>Present</td>\n",
       "      <td>Rare</td>\n",
       "      <td>NaN</td>\n",
       "    </tr>\n",
       "  </tbody>\n",
       "</table>\n",
       "</div>"
      ],
      "text/plain": [
       "                Park_Name Class              Scientific_Name  \\\n",
       "158  Acadia National Park  Bird           Calidris minutilla   \n",
       "159  Acadia National Park  Bird             Calidris pusilla   \n",
       "160  Acadia National Park  Bird  Catoptrophorus semipalmatus   \n",
       "161  Acadia National Park  Bird          Gallinago gallinago   \n",
       "\n",
       "                                          Common_Names     Occurrence  \\\n",
       "158                                    Least Sandpiper        Present   \n",
       "159                             Semipalmated Sandpiper        Present   \n",
       "160                             Eastern Willet, Willet  Not Confirmed   \n",
       "161  Common Snipe, Wilson's Common Snipe, Wilson's ...        Present   \n",
       "\n",
       "    Abundance Conservation  \n",
       "158    Common          NaN  \n",
       "159  Abundant          NaN  \n",
       "160       NaN          NaN  \n",
       "161      Rare          NaN  "
      ]
     },
     "execution_count": 30,
     "metadata": {},
     "output_type": "execute_result"
    }
   ],
   "source": [
    "especies.loc[158:161]"
   ]
  },
  {
   "cell_type": "markdown",
   "metadata": {
    "slideshow": {
     "slide_type": "slide"
    }
   },
   "source": [
    "# Which countries have the most endangered languages?\n",
    "\n",
    "`Series.value_counts` counts how often it spots a value."
   ]
  },
  {
   "cell_type": "code",
   "execution_count": 31,
   "metadata": {
    "slideshow": {
     "slide_type": "fragment"
    }
   },
   "outputs": [
    {
     "data": {
      "text/plain": [
       "United States of America    216\n",
       "Brazil                      186\n",
       "India                       163\n",
       "Indonesia                   149\n",
       "Mexico                      143\n",
       "China                       122\n",
       "Russian Federation          119\n",
       "Australia                   108\n",
       "Papua New Guinea             98\n",
       "Canada                       82\n",
       "Name: Countries, dtype: int64"
      ]
     },
     "execution_count": 31,
     "metadata": {},
     "output_type": "execute_result"
    }
   ],
   "source": [
    "idiomas.Countries.value_counts()[:10]"
   ]
  },
  {
   "cell_type": "markdown",
   "metadata": {
    "slideshow": {
     "slide_type": "slide"
    }
   },
   "source": [
    "# Another option to group is to `groupby`.\n",
    "\n",
    "# How many people are, in total, in each group?"
   ]
  },
  {
   "cell_type": "code",
   "execution_count": 32,
   "metadata": {
    "slideshow": {
     "slide_type": "fragment"
    }
   },
   "outputs": [
    {
     "data": {
      "text/plain": [
       "Endangerment\n",
       "Vulnerable               90995144\n",
       "Definitely endangered    39503297\n",
       "Severely endangered       5226486\n",
       "Critically endangered      501388\n",
       "Extinct                     13642\n",
       "Name: Speakers, dtype: int64"
      ]
     },
     "execution_count": 32,
     "metadata": {},
     "output_type": "execute_result"
    }
   ],
   "source": [
    "endangerment_groups = idiomas.groupby('Endangerment')\n",
    "endangerment_groups.Speakers.sum()"
   ]
  },
  {
   "cell_type": "markdown",
   "metadata": {
    "slideshow": {
     "slide_type": "slide"
    }
   },
   "source": [
    "# Can you show me this as a picture, Mr. Pandas?\n",
    "\n",
    "![title](img/quinlingpandabearrbrown.jpg)"
   ]
  },
  {
   "cell_type": "markdown",
   "metadata": {
    "slideshow": {
     "slide_type": "slide"
    }
   },
   "source": [
    "# Ay, Ay, with a plot pie!"
   ]
  },
  {
   "cell_type": "code",
   "execution_count": 33,
   "metadata": {
    "scrolled": true,
    "slideshow": {
     "slide_type": "slide"
    }
   },
   "outputs": [],
   "source": [
    "# we first remove the languages which are 'extinct' \n",
    "# because there are no speakers there unfortunately\n",
    "not_extinct = idiomas.Endangerment != 'Extinct'\n",
    "endangerment_groups = idiomas[not_extinct].groupby('Endangerment')"
   ]
  },
  {
   "cell_type": "code",
   "execution_count": 34,
   "metadata": {
    "scrolled": true,
    "slideshow": {
     "slide_type": "slide"
    }
   },
   "outputs": [
    {
     "data": {
      "image/png": "[encoded data removed]",
      "text/plain": [
       "<Figure size 1152x864 with 1 Axes>"
      ]
     },
     "metadata": {},
     "output_type": "display_data"
    }
   ],
   "source": [
    "endangerment_groups.Speakers.sum().plot.pie(figsize=(16, 12), fontsize=22, \n",
    "                                            legend=True);"
   ]
  },
  {
   "cell_type": "markdown",
   "metadata": {
    "slideshow": {
     "slide_type": "slide"
    }
   },
   "source": [
    "# Filtering the nonsensical superstitions"
   ]
  },
  {
   "cell_type": "markdown",
   "metadata": {
    "slideshow": {
     "slide_type": "fragment"
    }
   },
   "source": [
    "# Quest: filter! find me specific rows which fulfill \n",
    "# certain requirements!\n",
    "\n",
    "**Filters** are just lists containing `True` or `False`\n",
    "\n",
    "with the same length as the **number of rows** in the dataframe."
   ]
  },
  {
   "cell_type": "markdown",
   "metadata": {
    "slideshow": {
     "slide_type": "slide"
    }
   },
   "source": [
    "# When you apply a filter directly to the dataset...\n",
    "\n",
    "# you can go fully berserk!"
   ]
  },
  {
   "cell_type": "code",
   "execution_count": 35,
   "metadata": {
    "slideshow": {
     "slide_type": "slide"
    }
   },
   "outputs": [
    {
     "data": {
      "text/html": [
       "<div>\n",
       "<style scoped>\n",
       "    .dataframe tbody tr th:only-of-type {\n",
       "        vertical-align: middle;\n",
       "    }\n",
       "\n",
       "    .dataframe tbody tr th {\n",
       "        vertical-align: top;\n",
       "    }\n",
       "\n",
       "    .dataframe thead th {\n",
       "        text-align: right;\n",
       "    }\n",
       "</style>\n",
       "<table border=\"1\" class=\"dataframe\">\n",
       "  <thead>\n",
       "    <tr style=\"text-align: right;\">\n",
       "      <th></th>\n",
       "      <th>Name</th>\n",
       "      <th>Countries</th>\n",
       "      <th>Endangerment</th>\n",
       "      <th>Speakers</th>\n",
       "    </tr>\n",
       "  </thead>\n",
       "  <tbody>\n",
       "    <tr>\n",
       "      <th>753</th>\n",
       "      <td>Nomatsiguenga</td>\n",
       "      <td>Peru</td>\n",
       "      <td>Severely endangered</td>\n",
       "      <td>4500</td>\n",
       "    </tr>\n",
       "    <tr>\n",
       "      <th>668</th>\n",
       "      <td>Quechua of San Martín</td>\n",
       "      <td>Peru</td>\n",
       "      <td>Severely endangered</td>\n",
       "      <td>6000</td>\n",
       "    </tr>\n",
       "    <tr>\n",
       "      <th>1034</th>\n",
       "      <td>Quechua of Yauyos</td>\n",
       "      <td>Peru</td>\n",
       "      <td>Critically endangered</td>\n",
       "      <td>1700</td>\n",
       "    </tr>\n",
       "    <tr>\n",
       "      <th>600</th>\n",
       "      <td>Yanesha</td>\n",
       "      <td>Peru</td>\n",
       "      <td>Severely endangered</td>\n",
       "      <td>8000</td>\n",
       "    </tr>\n",
       "  </tbody>\n",
       "</table>\n",
       "</div>"
      ],
      "text/plain": [
       "                       Name Countries           Endangerment  Speakers\n",
       "753           Nomatsiguenga      Peru    Severely endangered      4500\n",
       "668   Quechua of San Martín      Peru    Severely endangered      6000\n",
       "1034      Quechua of Yauyos      Peru  Critically endangered      1700\n",
       "600                 Yanesha      Peru    Severely endangered      8000"
      ]
     },
     "execution_count": 35,
     "metadata": {},
     "output_type": "execute_result"
    }
   ],
   "source": [
    "idiomas.loc[(idiomas.Speakers > 1000) &\n",
    "        (idiomas.Countries == 'Peru') & \n",
    "        (idiomas.Endangerment >= 'Severely endangered'), :'Speakers'].sample(4)"
   ]
  },
  {
   "cell_type": "markdown",
   "metadata": {
    "slideshow": {
     "slide_type": "skip"
    }
   },
   "source": [
    "# Let's find languages which are **only** in Romania!"
   ]
  },
  {
   "cell_type": "code",
   "execution_count": 36,
   "metadata": {
    "scrolled": false,
    "slideshow": {
     "slide_type": "skip"
    }
   },
   "outputs": [
    {
     "data": {
      "text/html": [
       "<div>\n",
       "<style scoped>\n",
       "    .dataframe tbody tr th:only-of-type {\n",
       "        vertical-align: middle;\n",
       "    }\n",
       "\n",
       "    .dataframe tbody tr th {\n",
       "        vertical-align: top;\n",
       "    }\n",
       "\n",
       "    .dataframe thead th {\n",
       "        text-align: right;\n",
       "    }\n",
       "</style>\n",
       "<table border=\"1\" class=\"dataframe\">\n",
       "  <thead>\n",
       "    <tr style=\"text-align: right;\">\n",
       "      <th></th>\n",
       "      <th>Name</th>\n",
       "      <th>Countries</th>\n",
       "      <th>Endangerment</th>\n",
       "      <th>Speakers</th>\n",
       "      <th>Latitude</th>\n",
       "      <th>Longitude</th>\n",
       "    </tr>\n",
       "  </thead>\n",
       "  <tbody>\n",
       "    <tr>\n",
       "      <th>244</th>\n",
       "      <td>Transylvanian Saxon</td>\n",
       "      <td>Romania</td>\n",
       "      <td>Severely endangered</td>\n",
       "      <td>50000</td>\n",
       "      <td>46.2140</td>\n",
       "      <td>24.2413</td>\n",
       "    </tr>\n",
       "    <tr>\n",
       "      <th>353</th>\n",
       "      <td>Csángó Hungarian</td>\n",
       "      <td>Romania</td>\n",
       "      <td>Severely endangered</td>\n",
       "      <td>25000</td>\n",
       "      <td>46.7925</td>\n",
       "      <td>27.1911</td>\n",
       "    </tr>\n",
       "    <tr>\n",
       "      <th>2643</th>\n",
       "      <td>Nogay (Dobruja)</td>\n",
       "      <td>Romania</td>\n",
       "      <td>Severely endangered</td>\n",
       "      <td>0</td>\n",
       "      <td>44.6491</td>\n",
       "      <td>27.8173</td>\n",
       "    </tr>\n",
       "  </tbody>\n",
       "</table>\n",
       "</div>"
      ],
      "text/plain": [
       "                     Name Countries         Endangerment  Speakers  Latitude  \\\n",
       "244   Transylvanian Saxon   Romania  Severely endangered     50000   46.2140   \n",
       "353      Csángó Hungarian   Romania  Severely endangered     25000   46.7925   \n",
       "2643      Nogay (Dobruja)   Romania  Severely endangered         0   44.6491   \n",
       "\n",
       "      Longitude  \n",
       "244     24.2413  \n",
       "353     27.1911  \n",
       "2643    27.8173  "
      ]
     },
     "execution_count": 36,
     "metadata": {},
     "output_type": "execute_result"
    }
   ],
   "source": [
    "idiomas[idiomas.Countries.isin(['Romania'])]"
   ]
  },
  {
   "cell_type": "markdown",
   "metadata": {
    "slideshow": {
     "slide_type": "slide"
    }
   },
   "source": [
    "# Creating a filter with a dictionary or a function"
   ]
  },
  {
   "cell_type": "code",
   "execution_count": 37,
   "metadata": {
    "slideshow": {
     "slide_type": "-"
    }
   },
   "outputs": [],
   "source": [
    "def contains_moose(animal):\n",
    "    \"\"\"\n",
    "    I check if an animal is a mooooose...\n",
    "    Yes, we can build amazing filtering functions! \n",
    "    Hoooooray!\n",
    "    \"\"\"\n",
    "    animal = str(animal)\n",
    "    if 'moose' in animal.lower():\n",
    "        return True\n",
    "    else:\n",
    "        return False"
   ]
  },
  {
   "cell_type": "markdown",
   "metadata": {
    "slideshow": {
     "slide_type": "slide"
    }
   },
   "source": [
    "# Where's Mr. `moose` at?\n"
   ]
  },
  {
   "cell_type": "code",
   "execution_count": 38,
   "metadata": {
    "slideshow": {
     "slide_type": "-"
    }
   },
   "outputs": [],
   "source": [
    "mooooooses = especies['Common_Names'].map(contains_moose)"
   ]
  },
  {
   "cell_type": "markdown",
   "metadata": {
    "slideshow": {
     "slide_type": "slide"
    }
   },
   "source": [
    "# Oops, my moose! \n",
    "\n",
    "**American Cranberrybush, Mooseberry** or **Yellow Moosedung Moss**?"
   ]
  },
  {
   "cell_type": "code",
   "execution_count": 39,
   "metadata": {
    "scrolled": false,
    "slideshow": {
     "slide_type": "-"
    }
   },
   "outputs": [
    {
     "data": {
      "text/plain": [
       "Moose                                      14\n",
       "Eurasian Elk, Moose                         4\n",
       "Eastern Leatherwood, Moosewood              3\n",
       "Moosebrush                                  1\n",
       "Moose Maple, Mountain Maple                 1\n",
       "Caribou, Cervids, Deer, Moose, Wapiti       1\n",
       "Yellowstone Moose                           1\n",
       "American Cranberrybush, Mooseberry          1\n",
       "Striped Maple, Striped Maple, Moosewood     1\n",
       "Striped Maple, Moosewood                    1\n",
       "Yellow Moosedung Moss                       1\n",
       "Name: Common_Names, dtype: int64"
      ]
     },
     "execution_count": 39,
     "metadata": {},
     "output_type": "execute_result"
    }
   ],
   "source": [
    "especies[mooooooses]['Common_Names'].value_counts()"
   ]
  },
  {
   "cell_type": "markdown",
   "metadata": {
    "slideshow": {
     "slide_type": "slide"
    }
   },
   "source": [
    "![title](img/yellow_moose.jpg)"
   ]
  },
  {
   "cell_type": "markdown",
   "metadata": {
    "slideshow": {
     "slide_type": "slide"
    }
   },
   "source": [
    "# Precision it's what we need when we're talking about `Moose`"
   ]
  },
  {
   "cell_type": "code",
   "execution_count": 40,
   "metadata": {
    "scrolled": false,
    "slideshow": {
     "slide_type": "-"
    }
   },
   "outputs": [
    {
     "data": {
      "text/plain": [
       "Moose                                    14\n",
       "Eurasian Elk, Moose                       4\n",
       "Caribou, Cervids, Deer, Moose, Wapiti     1\n",
       "Yellowstone Moose                         1\n",
       "Name: Common_Names, dtype: int64"
      ]
     },
     "execution_count": 40,
     "metadata": {},
     "output_type": "execute_result"
    }
   ],
   "source": [
    "is_mammal = especies.Class == 'Mammal'\n",
    "especies[mooooooses & is_mammal]['Common_Names'].value_counts()"
   ]
  },
  {
   "cell_type": "markdown",
   "metadata": {
    "slideshow": {
     "slide_type": "slide"
    }
   },
   "source": [
    "![title](img/alaskan_moose_pair.jpg)"
   ]
  },
  {
   "cell_type": "markdown",
   "metadata": {
    "slideshow": {
     "slide_type": "slide"
    }
   },
   "source": [
    "# Bar Chart horizontal: The number of species per class"
   ]
  },
  {
   "cell_type": "code",
   "execution_count": 41,
   "metadata": {
    "slideshow": {
     "slide_type": "slide"
    }
   },
   "outputs": [
    {
     "data": {
      "image/png": "[encoded data removed]",
      "text/plain": [
       "<Figure size 720x432 with 1 Axes>"
      ]
     },
     "metadata": {
      "needs_background": "light"
     },
     "output_type": "display_data"
    }
   ],
   "source": [
    "filter_vasculars = especies.Class != 'Vascular Plant'\n",
    "no_vascular_plants = especies[filter_vasculars].Class.value_counts()\n",
    "no_vascular_plants.plot.barh(figsize=(10, 6), fontsize=20, color='orchid'); \n",
    "# barh barh!"
   ]
  },
  {
   "cell_type": "markdown",
   "metadata": {
    "slideshow": {
     "slide_type": "slide"
    }
   },
   "source": [
    "# We enter a new Land:\n",
    "\n",
    "# The Mystifying Land of Accessors!"
   ]
  },
  {
   "cell_type": "markdown",
   "metadata": {
    "slideshow": {
     "slide_type": "slide"
    }
   },
   "source": [
    "# But what are accessors?\n",
    "\n",
    "# Properties that serve as an interface to additional methods."
   ]
  },
  {
   "cell_type": "code",
   "execution_count": 42,
   "metadata": {
    "slideshow": {
     "slide_type": "fragment"
    }
   },
   "outputs": [
    {
     "data": {
      "text/plain": [
       "{'cat', 'dt', 'sparse', 'str'}"
      ]
     },
     "execution_count": 42,
     "metadata": {},
     "output_type": "execute_result"
    }
   ],
   "source": [
    "pd.Series._accessors"
   ]
  },
  {
   "cell_type": "code",
   "execution_count": 43,
   "metadata": {
    "scrolled": true,
    "slideshow": {
     "slide_type": "slide"
    }
   },
   "outputs": [
    {
     "data": {
      "text/plain": [
       "\"['capitalize', 'cat', 'center', 'contains', 'count', 'decode', 'encode', 'endswith', 'extract', 'extractall', 'find', 'findall', 'get', 'get_dummies', 'index', 'isalnum', 'isalpha', 'isdecimal', 'isdigit', 'islower', 'isnumeric', 'isspace', 'istitle', 'isupper', 'join', 'len', 'ljust', 'lower', 'lstrip', 'match', 'normalize', 'pad', 'partition', 'repeat', 'replace', 'rfind', 'rindex', 'rjust', 'rpartition', 'rsplit', 'rstrip', 'slice', 'slice_replace', 'split', 'startswith', 'strip', 'swapcase', 'title', 'translate', 'upper', 'wrap', 'zfill']\""
      ]
     },
     "execution_count": 43,
     "metadata": {},
     "output_type": "execute_result"
    }
   ],
   "source": [
    "# Accessors provide a huge number of useful methods  \n",
    "# depending on the type a column has, for example:\n",
    "\n",
    "str([name for name in dir(especies.Class.str) if not name.startswith('_')])"
   ]
  },
  {
   "cell_type": "markdown",
   "metadata": {
    "slideshow": {
     "slide_type": "slide"
    }
   },
   "source": [
    " # Let's try it out!"
   ]
  },
  {
   "cell_type": "code",
   "execution_count": 44,
   "metadata": {
    "slideshow": {
     "slide_type": "fragment"
    }
   },
   "outputs": [
    {
     "data": {
      "text/plain": [
       "'Acadia National Park'"
      ]
     },
     "execution_count": 44,
     "metadata": {},
     "output_type": "execute_result"
    }
   ],
   "source": [
    "# Let's remove this unnecessary information from each National Park name\n",
    "\n",
    "especies['Park_Name'][0]"
   ]
  },
  {
   "cell_type": "code",
   "execution_count": 45,
   "metadata": {
    "slideshow": {
     "slide_type": "fragment"
    }
   },
   "outputs": [
    {
     "data": {
      "text/plain": [
       "'Acadia'"
      ]
     },
     "execution_count": 45,
     "metadata": {},
     "output_type": "execute_result"
    }
   ],
   "source": [
    "# The .str accessor method contains a huge amount of useful string manipulation functions!\n",
    "\n",
    "especies['Park_Name'] = especies['Park_Name'].str.replace('National Park', '')\n",
    "especies['Park_Name'] = especies['Park_Name'].str.strip()\n",
    "especies['Park_Name'][0]"
   ]
  },
  {
   "cell_type": "code",
   "execution_count": 46,
   "metadata": {
    "slideshow": {
     "slide_type": "slide"
    }
   },
   "outputs": [
    {
     "data": {
      "text/html": [
       "<div>\n",
       "<style scoped>\n",
       "    .dataframe tbody tr th:only-of-type {\n",
       "        vertical-align: middle;\n",
       "    }\n",
       "\n",
       "    .dataframe tbody tr th {\n",
       "        vertical-align: top;\n",
       "    }\n",
       "\n",
       "    .dataframe thead th {\n",
       "        text-align: right;\n",
       "    }\n",
       "</style>\n",
       "<table border=\"1\" class=\"dataframe\">\n",
       "  <thead>\n",
       "    <tr style=\"text-align: right;\">\n",
       "      <th></th>\n",
       "      <th>Name</th>\n",
       "      <th>Countries</th>\n",
       "      <th>Endangerment</th>\n",
       "      <th>Speakers</th>\n",
       "      <th>Latitude</th>\n",
       "      <th>Longitude</th>\n",
       "    </tr>\n",
       "  </thead>\n",
       "  <tbody>\n",
       "    <tr>\n",
       "      <th>2716</th>\n",
       "      <td>Yiddish (Europe)</td>\n",
       "      <td>Germany, Austria, Belarus, Belgium, Denmark, E...</td>\n",
       "      <td>Definitely endangered</td>\n",
       "      <td>0</td>\n",
       "      <td>53.3571</td>\n",
       "      <td>25.2465</td>\n",
       "    </tr>\n",
       "    <tr>\n",
       "      <th>316</th>\n",
       "      <td>Burgenland Croatian</td>\n",
       "      <td>Austria, Hungary, Slovakia</td>\n",
       "      <td>Definitely endangered</td>\n",
       "      <td>30000</td>\n",
       "      <td>47.8435</td>\n",
       "      <td>16.5179</td>\n",
       "    </tr>\n",
       "    <tr>\n",
       "      <th>5</th>\n",
       "      <td>Romani</td>\n",
       "      <td>Albania, Germany, Austria, Belarus, Bosnia and...</td>\n",
       "      <td>Definitely endangered</td>\n",
       "      <td>3500000</td>\n",
       "      <td>46.3165</td>\n",
       "      <td>22.3681</td>\n",
       "    </tr>\n",
       "    <tr>\n",
       "      <th>31</th>\n",
       "      <td>Rusyn</td>\n",
       "      <td>Hungary, Poland, Romania, Slovakia, Ukraine</td>\n",
       "      <td>Vulnerable</td>\n",
       "      <td>1000000</td>\n",
       "      <td>48.4437</td>\n",
       "      <td>22.9394</td>\n",
       "    </tr>\n",
       "  </tbody>\n",
       "</table>\n",
       "</div>"
      ],
      "text/plain": [
       "                     Name                                          Countries  \\\n",
       "2716     Yiddish (Europe)  Germany, Austria, Belarus, Belgium, Denmark, E...   \n",
       "316   Burgenland Croatian                         Austria, Hungary, Slovakia   \n",
       "5                  Romani  Albania, Germany, Austria, Belarus, Bosnia and...   \n",
       "31                  Rusyn        Hungary, Poland, Romania, Slovakia, Ukraine   \n",
       "\n",
       "               Endangerment  Speakers  Latitude  Longitude  \n",
       "2716  Definitely endangered         0   53.3571    25.2465  \n",
       "316   Definitely endangered     30000   47.8435    16.5179  \n",
       "5     Definitely endangered   3500000   46.3165    22.3681  \n",
       "31               Vulnerable   1000000   48.4437    22.9394  "
      ]
     },
     "execution_count": 46,
     "metadata": {},
     "output_type": "execute_result"
    }
   ],
   "source": [
    "# Which languages are flying away from Slovakia? \n",
    "# We can try str.contains for that!\n",
    "\n",
    "idiomas.Countries = idiomas.Countries.astype('str')\n",
    "idiomas[idiomas.Countries.str.contains(\"Slovakia\")].sample(4)"
   ]
  },
  {
   "cell_type": "code",
   "execution_count": 47,
   "metadata": {
    "scrolled": true,
    "slideshow": {
     "slide_type": "slide"
    }
   },
   "outputs": [],
   "source": [
    "# Oh, but sorry, I need a different type of accessor!\n",
    "# well, no prob lad - you can define your own proper accessor!\n",
    "\n",
    "@pd.api.extensions.register_series_accessor(\"panda_likes_bamboo\")\n",
    "class PandasRevolutionBambooAccessor:\n",
    "    def __init__(self, series):\n",
    "        self._validate(series)\n",
    "        self._series = series\n",
    "    \n",
    "    @staticmethod\n",
    "    def _validate(series):\n",
    "        # I am compulsory - do not ignore me :) !!!!!!!\n",
    "        pass\n",
    "\n",
    "    @property\n",
    "    def is_bamboo(self):\n",
    "        return self._series.str.lower().str.contains('bamboo')"
   ]
  },
  {
   "cell_type": "code",
   "execution_count": 48,
   "metadata": {
    "scrolled": true,
    "slideshow": {
     "slide_type": "slide"
    }
   },
   "outputs": [
    {
     "data": {
      "text/html": [
       "<div>\n",
       "<style scoped>\n",
       "    .dataframe tbody tr th:only-of-type {\n",
       "        vertical-align: middle;\n",
       "    }\n",
       "\n",
       "    .dataframe tbody tr th {\n",
       "        vertical-align: top;\n",
       "    }\n",
       "\n",
       "    .dataframe thead th {\n",
       "        text-align: right;\n",
       "    }\n",
       "</style>\n",
       "<table border=\"1\" class=\"dataframe\">\n",
       "  <thead>\n",
       "    <tr style=\"text-align: right;\">\n",
       "      <th></th>\n",
       "      <th>Park_Name</th>\n",
       "      <th>Class</th>\n",
       "      <th>Scientific_Name</th>\n",
       "      <th>Common_Names</th>\n",
       "    </tr>\n",
       "  </thead>\n",
       "  <tbody>\n",
       "    <tr>\n",
       "      <th>84371</th>\n",
       "      <td>Olympic</td>\n",
       "      <td>Vascular Plant</td>\n",
       "      <td>Polygonum cuspidatum</td>\n",
       "      <td>Fleeceflower, Japanese Knotweed, Mexican Bamboo</td>\n",
       "    </tr>\n",
       "    <tr>\n",
       "      <th>48010</th>\n",
       "      <td>Great Smoky Mountains</td>\n",
       "      <td>Vascular Plant</td>\n",
       "      <td>Nandina domestica</td>\n",
       "      <td>Heavenly Bamboo, Nandina</td>\n",
       "    </tr>\n",
       "    <tr>\n",
       "      <th>58731</th>\n",
       "      <td>Hawaii Volcanoes</td>\n",
       "      <td>Vascular Plant</td>\n",
       "      <td>Arundina graminifolia</td>\n",
       "      <td>Bamboo Orchid</td>\n",
       "    </tr>\n",
       "    <tr>\n",
       "      <th>29007</th>\n",
       "      <td>Death Valley</td>\n",
       "      <td>Vascular Plant</td>\n",
       "      <td>Pseudosasa japonica</td>\n",
       "      <td>Arrow Bamboo</td>\n",
       "    </tr>\n",
       "  </tbody>\n",
       "</table>\n",
       "</div>"
      ],
      "text/plain": [
       "                   Park_Name           Class        Scientific_Name  \\\n",
       "84371                Olympic  Vascular Plant   Polygonum cuspidatum   \n",
       "48010  Great Smoky Mountains  Vascular Plant      Nandina domestica   \n",
       "58731       Hawaii Volcanoes  Vascular Plant  Arundina graminifolia   \n",
       "29007           Death Valley  Vascular Plant    Pseudosasa japonica   \n",
       "\n",
       "                                          Common_Names  \n",
       "84371  Fleeceflower, Japanese Knotweed, Mexican Bamboo  \n",
       "48010                         Heavenly Bamboo, Nandina  \n",
       "58731                                    Bamboo Orchid  \n",
       "29007                                     Arrow Bamboo  "
      ]
     },
     "execution_count": 48,
     "metadata": {},
     "output_type": "execute_result"
    }
   ],
   "source": [
    "# What a treat! So much bamboo!\n",
    "\n",
    "contains_bamboo = especies.Common_Names.panda_likes_bamboo.is_bamboo\n",
    "especies.loc[contains_bamboo, 'Park_Name':'Common_Names'].sample(4)"
   ]
  },
  {
   "cell_type": "markdown",
   "metadata": {
    "slideshow": {
     "slide_type": "slide"
    }
   },
   "source": [
    "![title](img/Giant_Pandas_having_a_snack.jpg)"
   ]
  },
  {
   "cell_type": "code",
   "execution_count": 49,
   "metadata": {
    "slideshow": {
     "slide_type": "skip"
    }
   },
   "outputs": [
    {
     "data": {
      "text/plain": [
       "<function pandas.core.accessor.register_series_accessor(name)>"
      ]
     },
     "execution_count": 49,
     "metadata": {},
     "output_type": "execute_result"
    }
   ],
   "source": [
    "# But until now we only spoke about the series accessors! \n",
    "# We want diversity!\n",
    "# no problem, plenty of them to choose from! Register on!\n",
    "\n",
    "pd.api.extensions.register_dataframe_accessor # dataframe\n",
    "pd.api.extensions.register_index_accessor     # index\n",
    "pd.api.extensions.register_series_accessor    # series\n"
   ]
  },
  {
   "cell_type": "code",
   "execution_count": 50,
   "metadata": {
    "slideshow": {
     "slide_type": "slide"
    }
   },
   "outputs": [],
   "source": [
    "# because PANDAS NEVER REPEAT THEMSELVES \n",
    "\n",
    "@pd.api.extensions.register_dataframe_accessor(\"panda_revolution\")\n",
    "class PandasDonTRepeatThemselves(object):\n",
    "    def __init__(self, pandas_obj):\n",
    "        self._validate(pandas_obj)\n",
    "        self._obj = pandas_obj\n",
    "\n",
    "    @staticmethod\n",
    "    def _validate(obj):\n",
    "        # You MUST IMPLEMENT ME!\n",
    "        if 'Latitude' not in obj.columns or 'Longitude' not in obj.columns:\n",
    "            raise AttributeError(\"Must have 'Latitude' and 'Longitude'.\")\n",
    "\n",
    "    def world_map(self):\n",
    "        self._obj.plot.scatter('Longitude', 'Latitude', figsize=(28, 18), \n",
    "                               title='The Blue Planet', label='Language')\n",
    "    "
   ]
  },
  {
   "cell_type": "code",
   "execution_count": 51,
   "metadata": {
    "slideshow": {
     "slide_type": "slide"
    }
   },
   "outputs": [
    {
     "data": {
      "image/png": "[encoded data removed]",
      "text/plain": [
       "<Figure size 2016x1296 with 1 Axes>"
      ]
     },
     "metadata": {
      "needs_background": "light"
     },
     "output_type": "display_data"
    }
   ],
   "source": [
    "# They made it! World domination is what they reached! \n",
    "idiomas.panda_revolution.world_map()"
   ]
  },
  {
   "cell_type": "markdown",
   "metadata": {
    "slideshow": {
     "slide_type": "slide"
    }
   },
   "source": [
    "# The Pandas thank you for your attention :)\n",
    "# You can find the talk later at: https://github.com/twigleingrid/pyconslovakia2019"
   ]
  }
 ],
 "metadata": {
  "celltoolbar": "Slideshow",
  "kernelspec": {
   "display_name": "Python 3",
   "language": "python",
   "name": "python3"
  },
  "language_info": {
   "codemirror_mode": {
    "name": "ipython",
    "version": 3
   },
   "file_extension": ".py",
   "mimetype": "text/x-python",
   "name": "python",
   "nbconvert_exporter": "python",
   "pygments_lexer": "ipython3",
   "version": "3.6.7"
  }
 },
 "nbformat": 4,
 "nbformat_minor": 2
}
